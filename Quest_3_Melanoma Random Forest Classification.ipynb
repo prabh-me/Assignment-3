{
 "cells": [
  {
   "cell_type": "markdown",
   "metadata": {},
   "source": [
    "I have used Random Forest Classifier for classifiaction of Melanoma cancer dataset."
   ]
  },
  {
   "cell_type": "markdown",
   "metadata": {},
   "source": [
    "Classification_report method from sklearn library has been used to calculate precision, recall and accuracy.\n",
    "The mean precision  comes out to be 0.724, recall 0.74 and accuracy 0.743 "
   ]
  },
  {
   "cell_type": "markdown",
   "metadata": {},
   "source": [
    "Stratied sampling and creation of 5 trails averages out the performance of the classifier and reduces the possibility of any bias on the data. It ensures that we check the accuracy of the model on any random combination of data and ensures more stable results than evaluating on only one sample."
   ]
  },
  {
   "cell_type": "markdown",
   "metadata": {},
   "source": [
    "The comments have been mentioned before the statements themselves."
   ]
  },
  {
   "cell_type": "code",
   "execution_count": 1,
   "metadata": {},
   "outputs": [
    {
     "name": "stderr",
     "output_type": "stream",
     "text": [
      "/usr/local/lib/python2.7/site-packages/sklearn/cross_validation.py:41: DeprecationWarning: This module was deprecated in version 0.18 in favor of the model_selection module into which all the refactored classes and functions are moved. Also note that the interface of the new CV iterators are different from that of this module. This module will be removed in 0.20.\n",
      "  \"This module will be removed in 0.20.\", DeprecationWarning)\n"
     ]
    }
   ],
   "source": [
    "#!/usr/local/bin/python\n",
    "# -*- coding: utf-8 -*-\n",
    "from pydataset import data\n",
    "import pandas as pd\n",
    "import matplotlib.pyplot as plt\n",
    "from sklearn.ensemble import RandomForestClassifier\n",
    "from sklearn.metrics import accuracy_score\n",
    "from sklearn.cross_validation import StratifiedShuffleSplit\n",
    "from sklearn.metrics import accuracy_score, f1_score, precision_score, recall_score, classification_report, confusion_matrix\n",
    "from sklearn.model_selection import KFold\n",
    "from sklearn.metrics import precision_recall_fscore_support\n",
    "from sklearn import preprocessing\n",
    "from statistics import mean\n",
    "from statistics import stdev\n",
    "import numpy as np\n",
    "from sklearn.metrics import classification_report"
   ]
  },
  {
   "cell_type": "code",
   "execution_count": 2,
   "metadata": {},
   "outputs": [],
   "source": [
    "''' Read the data and create a dataframe of independent variables by removing records for patients who died with causes not related to Melanoma. '''\n",
    "\n",
    "melanoma_data = data('Melanoma')\n",
    "df = melanoma_data[melanoma_data.status != 3]"
   ]
  },
  {
   "cell_type": "code",
   "execution_count": 3,
   "metadata": {},
   "outputs": [],
   "source": [
    "'''Drop the colums year and time as they do not contribute to the final predictions'''\n",
    "\n",
    "df = df.drop(['year', 'time'], axis=1)"
   ]
  },
  {
   "cell_type": "code",
   "execution_count": 4,
   "metadata": {},
   "outputs": [],
   "source": [
    "''' Create dependent and independent variables and normalize all the values in the independent variables dataframe.'''\n",
    "\n",
    "y = df['status']\n",
    "X = df.drop(['status'], axis=1)\n",
    "\n",
    "x = X.values #returns a numpy array\n",
    "min_max_scaler = preprocessing.MinMaxScaler()\n",
    "x_scaled = min_max_scaler.fit_transform(x)\n",
    "X = pd.DataFrame(x_scaled)"
   ]
  },
  {
   "cell_type": "code",
   "execution_count": 5,
   "metadata": {},
   "outputs": [],
   "source": [
    "''' Create a random forest classifier giving more weights to thickness and ulcer columns and then creating Stratified samples with 5 iterations'''\n",
    "\n",
    "clf = RandomForestClassifier(n_estimators=100, max_depth=2, random_state=0, class_weight={1: 1.5, 2: 1.5})\n",
    "\n",
    "sss = StratifiedShuffleSplit(y, n_iter=5, test_size=0.3, random_state=0)\n",
    "accuracy=[]\n",
    "recall=[]\n",
    "precision=[]\n"
   ]
  },
  {
   "cell_type": "code",
   "execution_count": 7,
   "metadata": {},
   "outputs": [],
   "source": [
    "'''Split to train/test data, fit random forest classifier and calculate the mean accuracy, precision and recall. '''\n",
    "\n",
    "for train_idx, test_idx in sss:std_accuracy=stdev(accuracy)\n",
    "std_precision=stdev([float(x.encode('UTF8')) for x in precision])\n",
    "std_recall=stdev([float(x.encode('UTF8')) for x in recall])\n",
    "    X_train, X_test, y_train, y_test = X.values[train_idx], X.values[test_idx], y.values[train_idx], y.values[test_idx]\n",
    "    clf.fit(X_train, y_train)\n",
    "    y_pred = clf.predict(X_test)\n",
    "    accuracy.append(accuracy_score(y_test, y_pred))\n",
    "    recall.append(classification_report(y_test, y_pred)[189:193])\n",
    "    precision.append(classification_report(y_test, y_pred)[179:183])\n",
    "\n",
    "mean_accuracy = mean(accuracy)\n",
    "mean_precision=mean([float(x.encode('UTF8')) for x in precision])\n",
    "mean_recall=mean([float(x.encode('UTF8')) for x in recall])"
   ]
  },
  {
   "cell_type": "code",
   "execution_count": 8,
   "metadata": {},
   "outputs": [],
   "source": [
    "'''Calculate standard deviation of 3 metrics'''\n",
    "\n",
    "std_accuracy=stdev(accuracy)\n",
    "std_precision=stdev([float(x.encode('UTF8')) for x in precision])\n",
    "std_recall=stdev([float(x.encode('UTF8')) for x in recall])"
   ]
  },
  {
   "cell_type": "code",
   "execution_count": 9,
   "metadata": {},
   "outputs": [
    {
     "data": {
      "image/png": "[encoded data removed]",
      "text/plain": [
       "<Figure size 432x288 with 1 Axes>"
      ]
     },
     "metadata": {
      "needs_background": "light"
     },
     "output_type": "display_data"
    }
   ],
   "source": [
    "'''Plot the mean of all the metrics for the 5 iteration samples'''\n",
    "\n",
    "mean_list=[('accuracy',mean_accuracy),('precision', mean_precision), ('recall', mean_recall)]\n",
    "\n",
    "labels, ys = zip(*mean_list)\n",
    "xs = np.arange(len(labels)) \n",
    "width = 1\n",
    "\n",
    "plt.bar(xs, ys, width, color=['black', 'red', 'green'], edgecolor='blue')\n",
    "plt.xticks(xs, labels) \n",
    "plt.yticks(ys)\n",
    "plt.show()"
   ]
  },
  {
   "cell_type": "code",
   "execution_count": 10,
   "metadata": {},
   "outputs": [
    {
     "data": {
      "image/png": "[encoded data removed]",
      "text/plain": [
       "<Figure size 432x288 with 1 Axes>"
      ]
     },
     "metadata": {
      "needs_background": "light"
     },
     "output_type": "display_data"
    }
   ],
   "source": [
    "'''Plot the standard deviation of all the metrics for the 5 iteration samples'''\n",
    "\n",
    "std_list=[('accuracy',std_accuracy),('precision', std_precision), ('recall', std_recall)]\n",
    "\n",
    "labels, ys = zip(*std_list)\n",
    "xs = np.arange(len(labels)) \n",
    "width = 1\n",
    "\n",
    "plt.bar(xs, ys, width, color=['black', 'red', 'green'], edgecolor='blue')\n",
    "\n",
    "plt.xticks(xs, labels) \n",
    "plt.yticks(ys)\n",
    "plt.show()"
   ]
  },
  {
   "cell_type": "code",
   "execution_count": null,
   "metadata": {},
   "outputs": [],
   "source": []
  }
 ],
 "metadata": {
  "kernelspec": {
   "display_name": "Python 2",
   "language": "python",
   "name": "python2"
  },
  "language_info": {
   "codemirror_mode": {
    "name": "ipython",
    "version": 2
   },
   "file_extension": ".py",
   "mimetype": "text/x-python",
   "name": "python",
   "nbconvert_exporter": "python",
   "pygments_lexer": "ipython2",
   "version": "2.7.15"
  }
 },
 "nbformat": 4,
 "nbformat_minor": 2
}
